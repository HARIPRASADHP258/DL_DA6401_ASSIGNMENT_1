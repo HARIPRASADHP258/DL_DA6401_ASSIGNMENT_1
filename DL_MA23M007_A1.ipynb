{
  "cells": [
    {
      "cell_type": "code",
      "execution_count": null,
      "metadata": {
        "colab": {
          "base_uri": "https://localhost:8080/",
          "height": 757
        },
        "id": "wGqN7JUfVQXb",
        "outputId": "93b19848-050a-4c0e-fb19-1075600bb55f"
      },
      "outputs": [
        {
          "name": "stderr",
          "output_type": "stream",
          "text": [
            "\u001b[34m\u001b[1mwandb\u001b[0m: Using wandb-core as the SDK backend.  Please refer to https://wandb.me/wandb-core for more information.\n"
          ]
        },
        {
          "data": {
            "application/javascript": [
              "\n",
              "        window._wandbApiKey = new Promise((resolve, reject) => {\n",
              "            function loadScript(url) {\n",
              "            return new Promise(function(resolve, reject) {\n",
              "                let newScript = document.createElement(\"script\");\n",
              "                newScript.onerror = reject;\n",
              "                newScript.onload = resolve;\n",
              "                document.body.appendChild(newScript);\n",
              "                newScript.src = url;\n",
              "            });\n",
              "            }\n",
              "            loadScript(\"https://cdn.jsdelivr.net/npm/postmate/build/postmate.min.js\").then(() => {\n",
              "            const iframe = document.createElement('iframe')\n",
              "            iframe.style.cssText = \"width:0;height:0;border:none\"\n",
              "            document.body.appendChild(iframe)\n",
              "            const handshake = new Postmate({\n",
              "                container: iframe,\n",
              "                url: 'https://wandb.ai/authorize'\n",
              "            });\n",
              "            const timeout = setTimeout(() => reject(\"Couldn't auto authenticate\"), 5000)\n",
              "            handshake.then(function(child) {\n",
              "                child.on('authorize', data => {\n",
              "                    clearTimeout(timeout)\n",
              "                    resolve(data)\n",
              "                });\n",
              "            });\n",
              "            })\n",
              "        });\n",
              "    "
            ],
            "text/plain": [
              "<IPython.core.display.Javascript object>"
            ]
          },
          "metadata": {},
          "output_type": "display_data"
        },
        {
          "name": "stderr",
          "output_type": "stream",
          "text": [
            "\u001b[34m\u001b[1mwandb\u001b[0m: Logging into wandb.ai. (Learn how to deploy a W&B server locally: https://wandb.me/wandb-server)\n",
            "\u001b[34m\u001b[1mwandb\u001b[0m: You can find your API key in your browser here: https://wandb.ai/authorize\n",
            "wandb: Paste an API key from your profile and hit enter:"
          ]
        },
        {
          "name": "stdout",
          "output_type": "stream",
          "text": [
            " ··········\n"
          ]
        },
        {
          "name": "stderr",
          "output_type": "stream",
          "text": [
            "\u001b[34m\u001b[1mwandb\u001b[0m: \u001b[33mWARNING\u001b[0m If you're specifying your api key in code, ensure this code is not shared publicly.\n",
            "\u001b[34m\u001b[1mwandb\u001b[0m: \u001b[33mWARNING\u001b[0m Consider setting the WANDB_API_KEY environment variable, or running `wandb login` from the command line.\n",
            "\u001b[34m\u001b[1mwandb\u001b[0m: No netrc file found, creating one.\n",
            "\u001b[34m\u001b[1mwandb\u001b[0m: Appending key for api.wandb.ai to your netrc file: /root/.netrc\n",
            "\u001b[34m\u001b[1mwandb\u001b[0m: Currently logged in as: \u001b[33mma23m007\u001b[0m (\u001b[33mma23m007-iit-madras\u001b[0m) to \u001b[32mhttps://api.wandb.ai\u001b[0m. Use \u001b[1m`wandb login --relogin`\u001b[0m to force relogin\n"
          ]
        },
        {
          "data": {
            "text/html": [
              "Tracking run with wandb version 0.19.8"
            ],
            "text/plain": [
              "<IPython.core.display.HTML object>"
            ]
          },
          "metadata": {},
          "output_type": "display_data"
        },
        {
          "data": {
            "text/html": [
              "Run data is saved locally in <code>/content/wandb/run-20250316_052438-a4kig10v</code>"
            ],
            "text/plain": [
              "<IPython.core.display.HTML object>"
            ]
          },
          "metadata": {},
          "output_type": "display_data"
        },
        {
          "data": {
            "text/html": [
              "Syncing run <strong><a href='https://wandb.ai/ma23m007-iit-madras/fashion-mnist-visualization11/runs/a4kig10v' target=\"_blank\">data-analysis</a></strong> to <a href='https://wandb.ai/ma23m007-iit-madras/fashion-mnist-visualization11' target=\"_blank\">Weights & Biases</a> (<a href='https://wandb.me/developer-guide' target=\"_blank\">docs</a>)<br>"
            ],
            "text/plain": [
              "<IPython.core.display.HTML object>"
            ]
          },
          "metadata": {},
          "output_type": "display_data"
        },
        {
          "data": {
            "text/html": [
              " View project at <a href='https://wandb.ai/ma23m007-iit-madras/fashion-mnist-visualization11' target=\"_blank\">https://wandb.ai/ma23m007-iit-madras/fashion-mnist-visualization11</a>"
            ],
            "text/plain": [
              "<IPython.core.display.HTML object>"
            ]
          },
          "metadata": {},
          "output_type": "display_data"
        },
        {
          "data": {
            "text/html": [
              " View run at <a href='https://wandb.ai/ma23m007-iit-madras/fashion-mnist-visualization11/runs/a4kig10v' target=\"_blank\">https://wandb.ai/ma23m007-iit-madras/fashion-mnist-visualization11/runs/a4kig10v</a>"
            ],
            "text/plain": [
              "<IPython.core.display.HTML object>"
            ]
          },
          "metadata": {},
          "output_type": "display_data"
        },
        {
          "name": "stdout",
          "output_type": "stream",
          "text": [
            "Downloading data from https://storage.googleapis.com/tensorflow/tf-keras-datasets/train-labels-idx1-ubyte.gz\n",
            "\u001b[1m29515/29515\u001b[0m \u001b[32m━━━━━━━━━━━━━━━━━━━━\u001b[0m\u001b[37m\u001b[0m \u001b[1m0s\u001b[0m 0us/step\n",
            "Downloading data from https://storage.googleapis.com/tensorflow/tf-keras-datasets/train-images-idx3-ubyte.gz\n",
            "\u001b[1m26421880/26421880\u001b[0m \u001b[32m━━━━━━━━━━━━━━━━━━━━\u001b[0m\u001b[37m\u001b[0m \u001b[1m0s\u001b[0m 0us/step\n",
            "Downloading data from https://storage.googleapis.com/tensorflow/tf-keras-datasets/t10k-labels-idx1-ubyte.gz\n",
            "\u001b[1m5148/5148\u001b[0m \u001b[32m━━━━━━━━━━━━━━━━━━━━\u001b[0m\u001b[37m\u001b[0m \u001b[1m0s\u001b[0m 0us/step\n",
            "Downloading data from https://storage.googleapis.com/tensorflow/tf-keras-datasets/t10k-images-idx3-ubyte.gz\n",
            "\u001b[1m4422102/4422102\u001b[0m \u001b[32m━━━━━━━━━━━━━━━━━━━━\u001b[0m\u001b[37m\u001b[0m \u001b[1m0s\u001b[0m 0us/step\n"
          ]
        },
        {
          "data": {
            "text/html": [],
            "text/plain": [
              "<IPython.core.display.HTML object>"
            ]
          },
          "metadata": {},
          "output_type": "display_data"
        },
        {
          "data": {
            "text/html": [
              "<br>    <style><br>        .wandb-row {<br>            display: flex;<br>            flex-direction: row;<br>            flex-wrap: wrap;<br>            justify-content: flex-start;<br>            width: 100%;<br>        }<br>        .wandb-col {<br>            display: flex;<br>            flex-direction: column;<br>            flex-basis: 100%;<br>            flex: 1;<br>            padding: 10px;<br>        }<br>    </style><br><div class=\"wandb-row\"><div class=\"wandb-col\"><h3>Run history:</h3><br/><table class=\"wandb\"><tr><td>Testing Samples</td><td>▁</td></tr><tr><td>Training Samples</td><td>▁</td></tr></table><br/></div><div class=\"wandb-col\"><h3>Run summary:</h3><br/><table class=\"wandb\"><tr><td>Testing Samples</td><td>10000</td></tr><tr><td>Training Samples</td><td>60000</td></tr></table><br/></div></div>"
            ],
            "text/plain": [
              "<IPython.core.display.HTML object>"
            ]
          },
          "metadata": {},
          "output_type": "display_data"
        },
        {
          "data": {
            "text/html": [
              " View run <strong style=\"color:#cdcd00\">data-analysis</strong> at: <a href='https://wandb.ai/ma23m007-iit-madras/fashion-mnist-visualization11/runs/a4kig10v' target=\"_blank\">https://wandb.ai/ma23m007-iit-madras/fashion-mnist-visualization11/runs/a4kig10v</a><br> View project at: <a href='https://wandb.ai/ma23m007-iit-madras/fashion-mnist-visualization11' target=\"_blank\">https://wandb.ai/ma23m007-iit-madras/fashion-mnist-visualization11</a><br>Synced 5 W&B file(s), 2 media file(s), 14 artifact file(s) and 0 other file(s)"
            ],
            "text/plain": [
              "<IPython.core.display.HTML object>"
            ]
          },
          "metadata": {},
          "output_type": "display_data"
        },
        {
          "data": {
            "text/html": [
              "Find logs at: <code>./wandb/run-20250316_052438-a4kig10v/logs</code>"
            ],
            "text/plain": [
              "<IPython.core.display.HTML object>"
            ]
          },
          "metadata": {},
          "output_type": "display_data"
        }
      ],
      "source": [
        "import wandb\n",
        "import numpy as np\n",
        "import matplotlib.pyplot as plt\n",
        "from keras.datasets import fashion_mnist\n",
        "\n",
        "# Initialize Weights & Biases for logging\n",
        "wandb.init(project=\"fashion-mnist-visualization11\", name=\"data-analysis\")\n",
        "\n",
        "# Load the Fashion-MNIST dataset\n",
        "(train_images, train_labels), (test_images, test_labels) = fashion_mnist.load_data()\n",
        "\n",
        "# Log dataset sizes\n",
        "wandb.log({\n",
        "    \"Training Samples\": train_images.shape[0],\n",
        "    \"Testing Samples\": test_images.shape[0],\n",
        "})\n",
        "\n",
        "# Define category names for Fashion-MNIST classes\n",
        "fashion_categories = [\n",
        "    'T-shirt/top', 'Trouser', 'Pullover', 'Dress', 'Coat',\n",
        "    'Sandal', 'Shirt', 'Sneaker', 'Bag', 'Ankle boot'\n",
        "]\n",
        "\n",
        "# Compute class frequencies in training data\n",
        "unique_labels, label_counts = np.unique(train_labels, return_counts=True)\n",
        "\n",
        "# Log class-wise distribution\n",
        "wandb.log({\"Class Distribution\": wandb.Table(columns=[\"Category\", \"Count\"],\n",
        "                                             data=list(zip(fashion_categories, label_counts)))})\n",
        "\n",
        "# Prepare example images for each category\n",
        "image_table = wandb.Table(columns=[\"Category\", \"Image\"])\n",
        "\n",
        "for class_id in range(10):  # Iterate over all categories\n",
        "    sample_index = np.where(train_labels == class_id)[0][0]  # Select a sample index\n",
        "    sample_image = train_images[sample_index]\n",
        "\n",
        "    # Add the selected image to the W&B table\n",
        "    image_table.add_data(fashion_categories[class_id], wandb.Image(sample_image))\n",
        "\n",
        "# Log the example images\n",
        "wandb.log({\"Sample Images\": image_table})\n",
        "\n",
        "# Close the Weights & Biases session\n",
        "wandb.finish()\n"
      ]
    },
    {
      "cell_type": "code",
      "execution_count": null,
      "metadata": {
        "colab": {
          "base_uri": "https://localhost:8080/"
        },
        "id": "0rCaGO-euBXC",
        "outputId": "21488a4b-9de0-476f-ceb5-c5175a67750c"
      },
      "outputs": [
        {
          "name": "stdout",
          "output_type": "stream",
          "text": [
            "W&B online. Running your script from this directory will now sync to the cloud.\n"
          ]
        }
      ],
      "source": [
        "!wandb online"
      ]
    },
    {
      "cell_type": "code",
      "execution_count": null,
      "metadata": {
        "colab": {
          "base_uri": "https://localhost:8080/"
        },
        "id": "uH6J59jcP6wO",
        "outputId": "04a6304b-e60b-417b-f451-554d3981a3cf"
      },
      "outputs": [
        {
          "name": "stdout",
          "output_type": "stream",
          "text": [
            "Initialized Weights: (784, 128)\n",
            "Initialized Weights: (128, 64)\n",
            "Initialized Weights: (64, 10)\n",
            "\n",
            "Sanity Check: Bias Shapes\n",
            "Layer 1 Bias Shape: (1, 128)\n",
            "Layer 2 Bias Shape: (1, 64)\n",
            "Layer 3 Bias Shape: (1, 10)\n",
            "\n",
            "Predicted Probability Distribution: [[0.07365978 0.12757392 0.03146623 0.10756228 0.22899075 0.02456382\n",
            "  0.10766705 0.04493441 0.21592502 0.03765674]]\n"
          ]
        }
      ],
      "source": [
        "import numpy as np\n",
        "from keras.datasets import fashion_mnist\n",
        "from keras.utils import to_categorical\n",
        "from sklearn.model_selection import train_test_split\n",
        "\n",
        "# Activation Functions\n",
        "\n",
        "def logistic(x):\n",
        "    return 1 / (1 + np.exp(-x))\n",
        "\n",
        "def hyperbolic(x):\n",
        "    return np.tanh(x)\n",
        "\n",
        "def relu(x):\n",
        "    return np.maximum(0, x)\n",
        "\n",
        "def softmax(z):\n",
        "    exp_z = np.exp(z - np.max(z, axis=1, keepdims=True))\n",
        "    return exp_z / np.sum(exp_z, axis=1, keepdims=True)\n",
        "\n",
        "# Weight Initialization\n",
        "def init_params(input_dim, output_dim):\n",
        "    weights = np.random.randn(input_dim, output_dim) * np.sqrt(2.0 / (input_dim + output_dim))\n",
        "    print(f\"Initialized Weights: {weights.shape}\")  # Sanity check\n",
        "    return weights\n",
        "\n",
        "# Feedforward Neural Network\n",
        "class MultiLayerModel:\n",
        "    def __init__(self, input_dim, layer_sizes):\n",
        "        self.layer_sizes = layer_sizes\n",
        "        self.weights = [init_params(input_dim, layer_sizes[0])] + \\\n",
        "                       [init_params(layer_sizes[i], layer_sizes[i + 1]) for i in range(len(layer_sizes) - 1)]\n",
        "        self.biases = [np.zeros((1, size)) for size in layer_sizes]\n",
        "\n",
        "        print(\"\\nSanity Check: Bias Shapes\")\n",
        "        for i, b in enumerate(self.biases):\n",
        "            print(f\"Layer {i+1} Bias Shape: {b.shape}\")\n",
        "\n",
        "    def forward_pass(self, X):\n",
        "        self.layer_outputs = [X]\n",
        "        # print(\"\\nSanity Check: Forward Pass\")\n",
        "        # print(f\"Input Shape: {X.shape}, Min: {X.min()}, Max: {X.max()}\")\n",
        "\n",
        "        for i in range(len(self.layer_sizes) - 1):\n",
        "\n",
        "            X = np.dot(X, self.weights[i]) + self.biases[i] #z=X*W+b\n",
        "            X=relu(X)\n",
        "            self.layer_outputs.append(X)\n",
        "\n",
        "        X = np.dot(X, self.weights[-1]) + self.biases[-1]\n",
        "        X = softmax(X)\n",
        "        self.layer_outputs.append(X)\n",
        "\n",
        "        return X\n",
        "\n",
        "# Load Dataset\n",
        "(X_train, y_train), (X_test, y_test) = fashion_mnist.load_data()\n",
        "X_test = X_test.reshape(-1, 784) / 255.0  # Normalize and flatten\n",
        "\n",
        "\n",
        "# Initialize Model\n",
        "model = MultiLayerModel(input_dim=784, layer_sizes=[128, 64, 10])\n",
        "\n",
        "# Predict and Print Probability Distribution for a Sample\n",
        "sample_index = 1000  # Change this index to test different images\n",
        "sample_image = X_test[sample_index].reshape(1, -1)\n",
        "\n",
        "predicted_probs = model.forward_pass(sample_image)\n",
        "\n",
        "print(\"\\nPredicted Probability Distribution:\", predicted_probs)\n"
      ]
    },
    {
      "cell_type": "code",
      "execution_count": null,
      "metadata": {
        "colab": {
          "base_uri": "https://localhost:8080/"
        },
        "id": "0GLhkyGbo85I",
        "outputId": "69cf7491-a660-4239-e71f-378d3eb37242"
      },
      "outputs": [
        {
          "name": "stderr",
          "output_type": "stream",
          "text": [
            "\u001b[34m\u001b[1mwandb\u001b[0m: Using wandb-core as the SDK backend.  Please refer to https://wandb.me/wandb-core for more information.\n",
            "\u001b[34m\u001b[1mwandb\u001b[0m: \u001b[33mWARNING\u001b[0m If you're specifying your api key in code, ensure this code is not shared publicly.\n",
            "\u001b[34m\u001b[1mwandb\u001b[0m: \u001b[33mWARNING\u001b[0m Consider setting the WANDB_API_KEY environment variable, or running `wandb login` from the command line.\n",
            "\u001b[34m\u001b[1mwandb\u001b[0m: Appending key for api.wandb.ai to your netrc file: /root/.netrc\n",
            "\u001b[34m\u001b[1mwandb\u001b[0m: Currently logged in as: \u001b[33mma23m007\u001b[0m (\u001b[33mma23m007-iit-madras\u001b[0m) to \u001b[32mhttps://api.wandb.ai\u001b[0m. Use \u001b[1m`wandb login --relogin`\u001b[0m to force relogin\n"
          ]
        },
        {
          "data": {
            "text/plain": [
              "True"
            ]
          },
          "execution_count": 1,
          "metadata": {},
          "output_type": "execute_result"
        }
      ],
      "source": [
        "import wandb\n",
        "\n",
        "wandb.login(key=\"999fe4f321204bd8f10135f3e40de296c23050f9\")"
      ]
    },
    {
      "cell_type": "code",
      "execution_count": 1,
      "metadata": {
        "colab": {
          "base_uri": "https://localhost:8080/",
          "height": 1000
        },
        "id": "Sx8hGqzKVEf3",
        "outputId": "bd307264-4d06-45bb-b53b-00efe64581ee",
        "collapsed": true
      },
      "outputs": [
        {
          "metadata": {
            "tags": null
          },
          "name": "stderr",
          "output_type": "stream",
          "text": [
            "\u001b[34m\u001b[1mwandb\u001b[0m: Using wandb-core as the SDK backend.  Please refer to https://wandb.me/wandb-core for more information.\n"
          ]
        },
        {
          "metadata": {
            "tags": null
          },
          "name": "stdout",
          "output_type": "stream",
          "text": [
            "Create sweep with ID: s6fi06ko\n",
            "Sweep URL: https://wandb.ai/ma23m007-iit-madras/fashion_emnist-test13/sweeps/s6fi06ko\n"
          ]
        },
        {
          "metadata": {
            "tags": null
          },
          "name": "stderr",
          "output_type": "stream",
          "text": [
            "\u001b[34m\u001b[1mwandb\u001b[0m: Agent Starting Run: 2zd0u23a with config:\n",
            "\u001b[34m\u001b[1mwandb\u001b[0m: \tactivation: relu\n",
            "\u001b[34m\u001b[1mwandb\u001b[0m: \tbatch_size: 128\n",
            "\u001b[34m\u001b[1mwandb\u001b[0m: \tepochs: 10\n",
            "\u001b[34m\u001b[1mwandb\u001b[0m: \thidden_layers: 5\n",
            "\u001b[34m\u001b[1mwandb\u001b[0m: \tlayer_size: 512\n",
            "\u001b[34m\u001b[1mwandb\u001b[0m: \tlr: 0.0001\n",
            "\u001b[34m\u001b[1mwandb\u001b[0m: \toptimizer: adam\n",
            "\u001b[34m\u001b[1mwandb\u001b[0m: \tweight_decay: 0.001\n",
            "\u001b[34m\u001b[1mwandb\u001b[0m: \tweight_init: random\n",
            "\u001b[34m\u001b[1mwandb\u001b[0m: Currently logged in as: \u001b[33mma23m007\u001b[0m (\u001b[33mma23m007-iit-madras\u001b[0m) to \u001b[32mhttps://api.wandb.ai\u001b[0m. Use \u001b[1m`wandb login --relogin`\u001b[0m to force relogin\n"
          ]
        },
        {
          "data": {
            "text/html": [
              "Tracking run with wandb version 0.19.8"
            ],
            "text/plain": [
              "<IPython.core.display.HTML object>"
            ]
          },
          "metadata": {},
          "output_type": "display_data"
        },
        {
          "data": {
            "text/html": [
              "Run data is saved locally in <code>/content/wandb/run-20250317_133243-2zd0u23a</code>"
            ],
            "text/plain": [
              "<IPython.core.display.HTML object>"
            ]
          },
          "metadata": {},
          "output_type": "display_data"
        },
        {
          "data": {
            "text/html": [
              "Syncing run <strong><a href='https://wandb.ai/ma23m007-iit-madras/fashion_emnist-test13/runs/2zd0u23a' target=\"_blank\">bumbling-sweep-1</a></strong> to <a href='https://wandb.ai/ma23m007-iit-madras/fashion_emnist-test13' target=\"_blank\">Weights & Biases</a> (<a href='https://wandb.me/developer-guide' target=\"_blank\">docs</a>)<br>Sweep page: <a href='https://wandb.ai/ma23m007-iit-madras/fashion_emnist-test13/sweeps/s6fi06ko' target=\"_blank\">https://wandb.ai/ma23m007-iit-madras/fashion_emnist-test13/sweeps/s6fi06ko</a>"
            ],
            "text/plain": [
              "<IPython.core.display.HTML object>"
            ]
          },
          "metadata": {},
          "output_type": "display_data"
        },
        {
          "data": {
            "text/html": [
              " View project at <a href='https://wandb.ai/ma23m007-iit-madras/fashion_emnist-test13' target=\"_blank\">https://wandb.ai/ma23m007-iit-madras/fashion_emnist-test13</a>"
            ],
            "text/plain": [
              "<IPython.core.display.HTML object>"
            ]
          },
          "metadata": {},
          "output_type": "display_data"
        },
        {
          "data": {
            "text/html": [
              " View sweep at <a href='https://wandb.ai/ma23m007-iit-madras/fashion_emnist-test13/sweeps/s6fi06ko' target=\"_blank\">https://wandb.ai/ma23m007-iit-madras/fashion_emnist-test13/sweeps/s6fi06ko</a>"
            ],
            "text/plain": [
              "<IPython.core.display.HTML object>"
            ]
          },
          "metadata": {},
          "output_type": "display_data"
        },
        {
          "data": {
            "text/html": [
              " View run at <a href='https://wandb.ai/ma23m007-iit-madras/fashion_emnist-test13/runs/2zd0u23a' target=\"_blank\">https://wandb.ai/ma23m007-iit-madras/fashion_emnist-test13/runs/2zd0u23a</a>"
            ],
            "text/plain": [
              "<IPython.core.display.HTML object>"
            ]
          },
          "metadata": {},
          "output_type": "display_data"
        },
        {
          "output_type": "stream",
          "name": "stdout",
          "text": [
            "\n",
            "Sanity Check: Bias Shapes\n",
            "Layer 1 Bias Shape: (1, 512)\n",
            "Layer 2 Bias Shape: (1, 512)\n",
            "Layer 3 Bias Shape: (1, 512)\n",
            "Layer 4 Bias Shape: (1, 512)\n",
            "Layer 5 Bias Shape: (1, 512)\n",
            "Layer 6 Bias Shape: (1, 10)\n",
            "Epoch 1/10 - Loss: 1.1725 - Train Acc: 0.6284 - Val Acc: 0.6140 - Val Loss: 0.9210\n",
            "Epoch 2/10 - Loss: 0.8583 - Train Acc: 0.7003 - Val Acc: 0.6892 - Val Loss: 0.8135\n",
            "Epoch 3/10 - Loss: 0.7818 - Train Acc: 0.7099 - Val Acc: 0.6942 - Val Loss: 0.7847\n",
            "Epoch 4/10 - Loss: 0.7294 - Train Acc: 0.7516 - Val Acc: 0.7368 - Val Loss: 0.7227\n",
            "Epoch 5/10 - Loss: 0.6929 - Train Acc: 0.7635 - Val Acc: 0.7487 - Val Loss: 0.6988\n",
            "Epoch 6/10 - Loss: 0.6526 - Train Acc: 0.7734 - Val Acc: 0.7587 - Val Loss: 0.6740\n",
            "Epoch 7/10 - Loss: 0.6246 - Train Acc: 0.7912 - Val Acc: 0.7727 - Val Loss: 0.6274\n",
            "Epoch 8/10 - Loss: 0.5867 - Train Acc: 0.7969 - Val Acc: 0.7763 - Val Loss: 0.6028\n",
            "Epoch 9/10 - Loss: 0.5521 - Train Acc: 0.8085 - Val Acc: 0.7968 - Val Loss: 0.5690\n",
            "Epoch 10/10 - Loss: 0.5249 - Train Acc: 0.8142 - Val Acc: 0.7988 - Val Loss: 0.5580\n"
          ]
        },
        {
          "output_type": "display_data",
          "data": {
            "text/plain": [
              "<Figure size 1200x500 with 2 Axes>"
            ],
            "image/png": "[encoded data removed]"
          },
          "metadata": {}
        },
        {
          "output_type": "display_data",
          "data": {
            "text/plain": [
              "<IPython.core.display.HTML object>"
            ],
            "text/html": []
          },
          "metadata": {}
        },
        {
          "output_type": "display_data",
          "data": {
            "text/plain": [
              "<IPython.core.display.HTML object>"
            ],
            "text/html": [
              "<br>    <style><br>        .wandb-row {<br>            display: flex;<br>            flex-direction: row;<br>            flex-wrap: wrap;<br>            justify-content: flex-start;<br>            width: 100%;<br>        }<br>        .wandb-col {<br>            display: flex;<br>            flex-direction: column;<br>            flex-basis: 100%;<br>            flex: 1;<br>            padding: 10px;<br>        }<br>    </style><br><div class=\"wandb-row\"><div class=\"wandb-col\"><h3>Run history:</h3><br/><table class=\"wandb\"><tr><td>Epochs</td><td>▁▂▃▃▄▅▆▆▇█</td></tr><tr><td>Training Accuracy</td><td>▁▄▄▆▆▆▇▇██</td></tr><tr><td>Training Loss</td><td>█▅▄▃▃▂▂▂▁▁</td></tr><tr><td>Validation Accuracy</td><td>▁▄▄▆▆▆▇▇██</td></tr><tr><td>Validation Loss</td><td>█▆▅▄▄▃▂▂▁▁</td></tr></table><br/></div><div class=\"wandb-col\"><h3>Run summary:</h3><br/><table class=\"wandb\"><tr><td>Epochs</td><td>10</td></tr><tr><td>Training Accuracy</td><td>0.81424</td></tr><tr><td>Training Loss</td><td>0.52495</td></tr><tr><td>Validation Accuracy</td><td>0.79883</td></tr><tr><td>Validation Loss</td><td>0.55796</td></tr></table><br/></div></div>"
            ]
          },
          "metadata": {}
        },
        {
          "output_type": "display_data",
          "data": {
            "text/plain": [
              "<IPython.core.display.HTML object>"
            ],
            "text/html": [
              " View run <strong style=\"color:#cdcd00\">-ac_relu-hs_512-epc_10-hl_5-eta_0.0001-optmz_adam-batch_128-wght_random</strong> at: <a href='https://wandb.ai/ma23m007-iit-madras/fashion_emnist-test13/runs/2zd0u23a' target=\"_blank\">https://wandb.ai/ma23m007-iit-madras/fashion_emnist-test13/runs/2zd0u23a</a><br> View project at: <a href='https://wandb.ai/ma23m007-iit-madras/fashion_emnist-test13' target=\"_blank\">https://wandb.ai/ma23m007-iit-madras/fashion_emnist-test13</a><br>Synced 5 W&B file(s), 0 media file(s), 0 artifact file(s) and 0 other file(s)"
            ]
          },
          "metadata": {}
        },
        {
          "output_type": "display_data",
          "data": {
            "text/plain": [
              "<IPython.core.display.HTML object>"
            ],
            "text/html": [
              "Find logs at: <code>./wandb/run-20250317_133243-2zd0u23a/logs</code>"
            ]
          },
          "metadata": {}
        }
      ],
      "source": [
        "import numpy as np\n",
        "import wandb\n",
        "from keras.datasets import fashion_mnist\n",
        "from keras.utils import to_categorical\n",
        "from sklearn.model_selection import train_test_split\n",
        "import matplotlib.pyplot as plt\n",
        "import time\n",
        "\n",
        "# Activation Functions and Derivatives\n",
        "def logistic(x):\n",
        "    return 1 / (1 + np.exp(-x))\n",
        "\n",
        "def logistic_grad(a):\n",
        "    return a * (1 - a)\n",
        "\n",
        "def hyperbolic(x):\n",
        "    return np.tanh(x)\n",
        "\n",
        "def hyperbolic_grad(a):\n",
        "    return 1 - np.tanh(a) ** 2\n",
        "\n",
        "def relu(x):\n",
        "    return np.maximum(0, x)\n",
        "\n",
        "def relu_grad(a):\n",
        "    return np.where(a > 0, 1, 0)\n",
        "\n",
        "def softmax(z):\n",
        "    exp_z = np.exp(z - np.max(z, axis=1, keepdims=True))\n",
        "    return exp_z / np.sum(exp_z, axis=1, keepdims=True)\n",
        "\n",
        "# Loss Function\n",
        "def compute_loss(y_target, y_predicted):\n",
        "    m = y_target.shape[0]\n",
        "    return -np.sum(y_target * np.log(y_predicted + 1e-8)) / m\n",
        "\n",
        "def accuracy(y_target, y_predicted):\n",
        "    return np.mean(np.argmax(y_target, axis=1) == np.argmax(y_predicted, axis=1))\n",
        "\n",
        "# Weight Initialization\n",
        "def init_params(input_dim, output_dim, method=\"random\"):\n",
        "  #Initialize weight matrices based on the chosen method\n",
        "\n",
        "    if method == \"random\":\n",
        "        return np.random.randn(input_dim, output_dim) * 0.01\n",
        "    elif method == \"xavier\":\n",
        "        return np.random.randn(input_dim, output_dim) * np.sqrt(2.0 / (input_dim + output_dim))\n",
        "    elif method == \"random_normal\":\n",
        "        return np.random.normal(loc=0.0, scale=0.01, size=(input_dim, output_dim))\n",
        "    elif method == \"xavier_uniform\":\n",
        "        limit = np.sqrt(6.0 / (input_dim + output_dim))\n",
        "        return np.random.uniform(low=-limit, high=limit, size=(input_dim, output_dim))\n",
        "    elif method == \"xavier_normal\":\n",
        "        return np.random.normal(loc=0.0, scale=np.sqrt(2.0 / (input_dim + output_dim)), size=(input_dim, output_dim))\n",
        "\n",
        "# Base Optimizer Class\n",
        "class GradientUpdater:\n",
        "  #Base class for gradient-based optimizers\n",
        "    def __init__(self, lr, weight_decay=0.0):\n",
        "        self.lr = lr\n",
        "        self.weight_decay = weight_decay\n",
        "\n",
        "    def apply_gradients(self, params, grads):\n",
        "        raise NotImplementedError\n",
        "\n",
        "# Optimizers\n",
        "class BasicUpdater(GradientUpdater):\n",
        "#Applies standard gradient descent with weight decay\n",
        "    def apply_gradients(self, params, grads):\n",
        "        return params - self.lr * (grads + self.weight_decay * params)\n",
        "\n",
        "class MomentumUpdater(GradientUpdater):\n",
        "    def __init__(self, lr, beta=0.9, weight_decay=0.0):\n",
        "        super().__init__(lr, weight_decay)\n",
        "        self.beta = beta # Momentum factor\n",
        "        self.velocity = None  # Stores previous gradients\n",
        "\n",
        "    def apply_gradients(self, params, grads):\n",
        "        if self.velocity is None:\n",
        "            self.velocity = np.zeros_like(params)   # Initialize velocity\n",
        "        self.velocity = self.beta * self.velocity + (1 - self.beta) * grads\n",
        "        return params - self.lr * (self.velocity + self.weight_decay * params)\n",
        "\n",
        "class NesterovUpdater(MomentumUpdater):\n",
        "    def apply_gradients(self, params, grads):\n",
        "        if self.velocity is None:\n",
        "            self.velocity = np.zeros_like(params)\n",
        "        lookahead = params - self.beta * self.velocity # Lookahead step\n",
        "        self.velocity = self.beta * self.velocity + self.lr * grads\n",
        "        return lookahead - self.velocity - self.lr * self.weight_decay * params\n",
        "\n",
        "class RMSUpdater(GradientUpdater):\n",
        "    def __init__(self, lr, beta=0.99, epsilon=1e-8, weight_decay=0.0):\n",
        "        super().__init__(lr, weight_decay)\n",
        "        self.beta = beta # Decay rate for squared gradient accumulation\n",
        "        self.epsilon = epsilon #Small constant for numerical stability\n",
        "        self.squared_avg = None # Stores moving average of squared gradients\n",
        "\n",
        "    def apply_gradients(self, params, grads):\n",
        "        if self.squared_avg is None:\n",
        "            self.squared_avg = np.zeros_like(params)\n",
        "        self.squared_avg = self.beta * self.squared_avg + (1 - self.beta) * grads ** 2\n",
        "        return params - self.lr * grads / (np.sqrt(self.squared_avg) + self.epsilon) - self.lr * self.weight_decay * params\n",
        "\n",
        "class AdaptiveUpdater(GradientUpdater):\n",
        "  #Adaptive moment estimation (Adam) optimizer\n",
        "    def __init__(self, lr, beta1=0.9, beta2=0.999, epsilon=1e-8, weight_decay=0.0):\n",
        "        super().__init__(lr, weight_decay)\n",
        "        self.beta1 = beta1  # First moment decay rate\n",
        "        self.beta2 = beta2  # Second moment decay rate\n",
        "        self.epsilon = epsilon\n",
        "        self.m = None # First moment estimate\n",
        "        self.v = None # Second moment estimate\n",
        "        self.t = 0  # Time step\n",
        "\n",
        "    def apply_gradients(self, params, grads):\n",
        "        if self.m is None:\n",
        "            self.m = np.zeros_like(params)\n",
        "            self.v = np.zeros_like(params)\n",
        "\n",
        "        self.t += 1\n",
        "        self.m = self.beta1 * self.m + (1 - self.beta1) * grads   # Compute biased first moment estimate\n",
        "        self.v = self.beta2 * self.v + (1 - self.beta2) * grads ** 2  # Compute biased second moment estimate\n",
        "\n",
        "        # Bias correction\n",
        "        m_hat = self.m / (1 - self.beta1 ** self.t)\n",
        "        v_hat = self.v / (1 - self.beta2 ** self.t)\n",
        "\n",
        "        # Update parameters\n",
        "        return params - self.lr * m_hat / (np.sqrt(v_hat) + self.epsilon) - self.lr * self.weight_decay * params\n",
        "\n",
        "class NesterovAdaptiveUpdater(AdaptiveUpdater):\n",
        "   #Adam optimizer with Nesterov acceleration for faster convergence\n",
        "    def apply_gradients(self, params, grads):\n",
        "        if self.m is None:\n",
        "            self.m = np.zeros_like(params)\n",
        "            self.v = np.zeros_like(params)\n",
        "\n",
        "        self.t += 1\n",
        "        self.m = self.beta1 * self.m + (1 - self.beta1) * grads\n",
        "        self.v = self.beta2 * self.v + (1 - self.beta2) * grads ** 2\n",
        "\n",
        "        # Bias correction\n",
        "        m_hat = self.m / (1 - self.beta1 ** self.t)\n",
        "        v_hat = self.v / (1 - self.beta2 ** self.t)\n",
        "\n",
        "        # Compute Nesterov momentum term\n",
        "        m_nesterov = self.beta1 * m_hat + (1 - self.beta1) * grads\n",
        "\n",
        "        return params - self.lr * m_nesterov / (np.sqrt(v_hat) + self.epsilon)\n",
        "\n",
        "# Neural Network Class\n",
        "class MultiLayerModel:\n",
        "    def __init__(self, input_dim, layer_sizes, activations, optimizer=\"adam\", lr=0.001, weight_init=\"xavier\", weight_decay=0.0):\n",
        "        self.layer_sizes = layer_sizes\n",
        "\n",
        "        #activation and its derivatives\n",
        "        self.activations = [relu if act == \"relu\" else hyperbolic if act == \"tanh\" else logistic for act in activations]\n",
        "        self.activation_grads = [relu_grad if act == \"relu\" else hyperbolic_grad if act == \"tanh\" else logistic_grad for act in activations]\n",
        "        #weights and biases initialization\n",
        "        self.weights = [init_params(input_dim, layer_sizes[0], weight_init)] + [init_params(layer_sizes[i], layer_sizes[i+1], weight_init) for i in range(len(layer_sizes)-1)]\n",
        "        self.biases = [np.zeros((1, size)) for size in layer_sizes]\n",
        "\n",
        "\n",
        "        self.loss_history = [] # storage for loss\n",
        "        self.learning_rate = lr\n",
        "        self.weight_decay = weight_decay #L2 regularisor\n",
        "\n",
        "        print(\"\\nSanity Check: Bias Shapes\")\n",
        "        for i, b in enumerate(self.biases):\n",
        "            print(f\"Layer {i+1} Bias Shape: {b.shape}\")\n",
        "\n",
        "\n",
        "        optimizers = {\n",
        "            \"sgd\": BasicUpdater,\n",
        "            \"momentum\": MomentumUpdater,\n",
        "            \"nag\": NesterovUpdater,\n",
        "            \"rmsprop\": RMSUpdater,\n",
        "            \"adam\": AdaptiveUpdater,\n",
        "            \"nadam\": NesterovAdaptiveUpdater\n",
        "            }\n",
        "\n",
        "\n",
        "        self.optimizers = [optimizers[optimizer](lr, weight_decay=weight_decay) for _ in layer_sizes]\n",
        "        self.train_loss = []\n",
        "        self.val_loss = []\n",
        "        self.train_acc = []\n",
        "        self.val_acc = []\n",
        "\n",
        "\n",
        "\n",
        "    def forward_pass(self, X):\n",
        "        self.layer_outputs = [X]\n",
        "\n",
        "        for i in range(len(self.layer_sizes)):\n",
        "            X = np.dot(X, self.weights[i]) + self.biases[i] #z=X*W+b\n",
        "            X = softmax(X) if i == len(self.layer_sizes) - 1 else self.activations[i](X)\n",
        "            self.layer_outputs.append(X)\n",
        "        return X\n",
        "\n",
        "    def backward_pass(self, y_target):\n",
        "        output_grad = self.layer_outputs[-1] - y_target  # Compute the gradient of the loss of output layer\n",
        "        grads = [output_grad]\n",
        "\n",
        "        # Backpropagate the error through the hidden layers\n",
        "        for i in range(len(self.layer_sizes) - 1, 0, -1):\n",
        "            output_grad = np.dot(output_grad, self.weights[i].T) * self.activation_grads[i - 1](self.layer_outputs[i])\n",
        "            grads.insert(0, output_grad)\n",
        "\n",
        "\n",
        "      # Update weights and biases using the computed gradients\n",
        "        for i in range(len(self.layer_sizes)):\n",
        "            self.weights[i] = self.optimizers[i].apply_gradients(self.weights[i], np.dot(self.layer_outputs[i].T, grads[i]))\n",
        "            self.biases[i] -= self.learning_rate * np.sum(grads[i], axis=0, keepdims=True)\n",
        "\n",
        "    def train(self, X_train, y_train, X_val, y_val, epochs=10, batch_size=32, grad_type=\"mini-batch\"):\n",
        "        num_samples = X_train.shape[0]\n",
        "\n",
        "\n",
        "      # Determine batch size based on gradient update type\n",
        "        if grad_type == \"stochastic\":\n",
        "            batch_size = 1\n",
        "        elif grad_type == \"vanilla\":\n",
        "            batch_size = num_samples\n",
        "        elif grad_type == \"mini-batch\":\n",
        "            batch_size = min(batch_size, num_samples)\n",
        "        else:\n",
        "            raise ValueError(\"Invalid grad_type. Choose from 'stochastic', 'vanilla', or 'mini-batch'.\")\n",
        "\n",
        "\n",
        "        for epoch in range(epochs):\n",
        "          # Shuffle data to avoid training bias\n",
        "            indices = np.arange(num_samples)\n",
        "            np.random.shuffle(indices)\n",
        "            X_train = X_train[indices]\n",
        "            y_train = y_train[indices]\n",
        "\n",
        "            epoch_loss = 0\n",
        "            num_batches = 0\n",
        "\n",
        "            # Iterate through the dataset in mini-batches\n",
        "            for i in range(0, num_samples, batch_size):\n",
        "                X_batch, y_batch = X_train[i:i + batch_size], y_train[i:i + batch_size]\n",
        "                y_pred = self.forward_pass(X_batch)\n",
        "\n",
        "                # Compute loss for the batch\n",
        "                loss = compute_loss(y_batch, y_pred)\n",
        "                epoch_loss += loss\n",
        "                num_batches += 1\n",
        "\n",
        "                # Perform backpropagation to update weights\n",
        "                self.backward_pass(y_batch)\n",
        "\n",
        "            avg_loss = epoch_loss / num_batches # average loss since batches\n",
        "            train_acc = accuracy(y_train, self.forward_pass(X_train))\n",
        "            val_acc = accuracy(y_val, self.forward_pass(X_val))\n",
        "            val_loss = compute_loss(y_val, self.forward_pass(X_val))\n",
        "\n",
        "            # appending for plot metrics visualization\n",
        "            self.train_loss.append(avg_loss)\n",
        "            self.train_acc.append(train_acc)\n",
        "            self.val_loss.append(val_loss)\n",
        "            self.val_acc.append(val_acc)\n",
        "            self.loss_history.append(avg_loss)\n",
        "            print(f\"Epoch {epoch+1}/{epochs} - Loss: {avg_loss:.4f} - Train Acc: {train_acc:.4f} - Val Acc: {val_acc:.4f} - Val Loss: {val_loss:.4f}\")\n",
        "\n",
        "            # Log metrics for wandb\n",
        "            wandb.log({\n",
        "                'Training Loss': avg_loss,\n",
        "                'Training Accuracy': train_acc,\n",
        "                'Validation Loss': val_loss,\n",
        "                'Validation Accuracy': val_acc,\n",
        "                'Epochs': epoch+1\n",
        "            })\n",
        "\n",
        "    def evaluate(self, X_test, y_test):\n",
        "        y_pred = self.forward_pass(X_test) # Perform forward pass on test data\n",
        "        test_acc = accuracy(y_test, y_pred) # Compute test accuracy\n",
        "        print(f\"Test Accuracy: {test_acc:.4f}\")\n",
        "        return test_acc\n",
        "\n",
        "    def plot_metrics(self):\n",
        "        plt.figure(figsize=(12, 5))\n",
        "\n",
        "        # Plot training and validation loss over epochs\n",
        "        plt.subplot(1, 2, 1)\n",
        "        plt.plot(self.train_loss, label='Training Loss')\n",
        "        plt.plot(self.val_loss, label='Validation Loss')\n",
        "        plt.xlabel('Epochs')\n",
        "        plt.ylabel('Loss')\n",
        "        plt.title('Training and Validation Loss')\n",
        "        plt.legend()\n",
        "\n",
        "        # Plot training and validation accuracy over epochs\n",
        "        plt.subplot(1, 2, 2)\n",
        "        plt.plot(self.train_acc, label='Training Accuracy')\n",
        "        plt.plot(self.val_acc, label='Validation Accuracy')\n",
        "        plt.xlabel('Epochs')\n",
        "        plt.ylabel('Accuracy')\n",
        "        plt.title('Training and Validation Accuracy')\n",
        "        plt.legend()\n",
        "\n",
        "        plt.show()\n",
        "\n",
        "# WandB Sweep Configuration\n",
        "sweep_config = {\n",
        "    'method': 'bayes',\n",
        "    'name': 'fashion_mnist_sweep',\n",
        "    'metric': {'goal': 'maximize', 'name': 'Validation Accuracy'},\n",
        "    'parameters': {\n",
        "        'epochs': {'values': [5, 10]},\n",
        "        'hidden_layers': {'values': [3, 4, 5]},\n",
        "        'layer_size': {'values': [32,64,128, 256,512]},\n",
        "        'optimizer': {'values': ['sgd', 'momentum', 'nag', 'rmsprop', 'adam', 'nadam']},\n",
        "        'batch_size': {'values': [32, 64,128]},\n",
        "        'activation': {'values': ['sigmoid', 'tanh', 'relu']},\n",
        "        'lr': {'values': [1e-3, 1e-4]},\n",
        "        'weight_init': {'values': ['random', 'xavier','random_normal','xavier_normal','xavier_uniform']},\n",
        "        'weight_decay': {'values': [0.0, 0.0001, 0.001,0.0005]}\n",
        "    }\n",
        "}\n",
        "\n",
        "\n",
        "\n",
        "\n",
        "def train_sweep():\n",
        "    with wandb.init() as run:\n",
        "        config = wandb.config\n",
        "\n",
        "        # Constructing run name for better tracking\n",
        "        run_name = (\n",
        "            \"-ac_\" + config.activation +\n",
        "            \"-hs_\" + str(config.layer_size) +\n",
        "            \"-epc_\" + str(config.epochs) +\n",
        "            \"-hl_\" + str(config.hidden_layers) +\n",
        "            \"-eta_\" + str(config.lr) +\n",
        "            \"-optmz_\" + config.optimizer +\n",
        "            \"-batch_\" + str(config.batch_size) +\n",
        "            \"-wght_\" + config.weight_init\n",
        "        )\n",
        "        wandb.run.name = run_name\n",
        "\n",
        "        # Defining model architecture\n",
        "        layer_sizes = [config.layer_size] * config.hidden_layers  # Hidden layers\n",
        "        activations = [config.activation] * config.hidden_layers  # Activation functions\n",
        "\n",
        "        model = MultiLayerModel(\n",
        "            input_dim=784,\n",
        "            layer_sizes=layer_sizes + [10],  # Output layer added\n",
        "            activations=activations + ['softmax'],  # Softmax for classification\n",
        "            optimizer=config.optimizer,\n",
        "            lr=config.lr,\n",
        "            weight_init=config.weight_init\n",
        "        )\n",
        "\n",
        "        # Training the model\n",
        "        model.train(X_train, y_train, X_val, y_val, epochs=config.epochs, batch_size=config.batch_size)\n",
        "        model.plot_metrics()\n",
        "\n",
        "    wandb.finish()\n",
        "\n",
        "\n",
        "\n",
        "# # Load Dataset and Split\n",
        "(X_train, y_train), (X_test, y_test) = fashion_mnist.load_data()\n",
        "X_train, X_test = X_train.reshape(-1, 784) / 255.0, X_test.reshape(-1, 784) / 255.0 # flatten and normalizing\n",
        "y_train, y_test = to_categorical(y_train, 10), to_categorical(y_test, 10) # Convert class labels to one-hot encoding\n",
        "X_train, X_val, y_train, y_val = train_test_split(X_train, y_train, test_size=0.1, random_state=42)\n",
        "\n",
        "\n",
        "# Start Sweep\n",
        "sweep_id = wandb.sweep(sweep_config, project='fashion_emnist-gross_entropy')\n",
        "wandb.agent(sweep_id, train_sweep, count=1)"
      ]
    },
    {
      "cell_type": "markdown",
      "metadata": {
        "id": "SK-j08B1N68P"
      },
      "source": [
        "7. confusion matrix"
      ]
    },
    {
      "cell_type": "code",
      "execution_count": null,
      "metadata": {
        "id": "gyXx-oFANhZg"
      },
      "outputs": [],
      "source": [
        "# Best model configuration\n",
        "best_model_config = {\n",
        "    'epochs': 10,\n",
        "    'hidden_layers': 5,\n",
        "    'layer_size': 512,\n",
        "    'optimizer': 'nadam',\n",
        "    'batch_size': 32,\n",
        "    'activation': 'relu',\n",
        "    'lr': 1e-4,\n",
        "    'weight_init': 'xavier_uniform'\n",
        "}\n",
        "\n",
        "# Define the model architecture\n",
        "hidden_layer_sizes = [best_model_config['layer_size']] * best_model_config['hidden_layers']  # Hidden layers\n",
        "activations = [best_model_config['activation']] * best_model_config['hidden_layers']  # Activation functions\n",
        "\n",
        "# Initialize the model\n",
        "best_model = MultiLayerModel(\n",
        "    input_dim=784,\n",
        "    layer_sizes=hidden_layer_sizes + [10],  # Output layer added\n",
        "    activations=activations + ['softmax'],  # Softmax for classification\n",
        "    optimizer=best_model_config['optimizer'],\n",
        "    lr=best_model_config['lr'],\n",
        "    weight_init=best_model_config['weight_init']\n",
        ")\n",
        "\n",
        "# Train the model\n",
        "best_model.train(X_train, y_train, X_val, y_val, epochs=best_model_config['epochs'], batch_size=best_model_config['batch_size'])\n",
        "\n",
        "# Evaluate the model on the test set\n",
        "test_accuracy = best_model.evaluate(X_test, y_test)\n",
        "print(f\"Test Accuracy: {test_accuracy:.4f}\")\n",
        "\n",
        "# Get predictions\n",
        "y_pred = best_model.forward_pass(X_test)\n",
        "y_pred_classes = np.argmax(y_pred, axis=1)\n",
        "y_true_classes = np.argmax(y_test, axis=1)\n",
        "\n",
        "# Compute confusion matrix\n",
        "cm = confusion_matrix(y_true_classes, y_pred_classes)\n",
        "\n",
        "# Plot confusion matrix with class labels\n",
        "class_names = ['T-shirt/top', 'Trouser', 'Pullover', 'Dress', 'Coat',\n",
        "               'Sandal', 'Shirt', 'Sneaker', 'Bag', 'Ankle boot']\n",
        "\n",
        "plt.figure(figsize=(12, 10))\n",
        "sns.heatmap(cm, annot=True, fmt='d', cmap='BuGn', xticklabels=class_names, yticklabels=class_names)\n",
        "plt.xlabel('Predicted')\n",
        "plt.ylabel('True')\n",
        "plt.title('Confusion Matrix with Class Labels')\n",
        "plt.xticks(rotation=45)\n",
        "plt.yticks(rotation=0)\n",
        "plt.show()"
      ]
    }
  ],
  "metadata": {
    "colab": {
      "provenance": []
    },
    "kernelspec": {
      "display_name": "Python 3",
      "name": "python3"
    },
    "language_info": {
      "name": "python"
    }
  },
  "nbformat": 4,
  "nbformat_minor": 0
}